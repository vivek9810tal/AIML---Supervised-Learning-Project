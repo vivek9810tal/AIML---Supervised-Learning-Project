{
 "cells": [
  {
   "cell_type": "markdown",
   "metadata": {},
   "source": [
    "![alt text](GL_Logo.png \"Title\")"
   ]
  },
  {
   "cell_type": "markdown",
   "metadata": {},
   "source": [
    "# Image Classifier - NB, SVM, KNN\n",
    "\n",
    "### Author - Krishnav Bhudeo Dave\n",
    "\n",
    "#### Engagement: Samsung \n",
    "\n",
    "##### Date - 26 April 2020\n",
    "\n",
    "- - - - - - - - - - - - - - - - - - - - - - - - - - - - - - - - - - - - - - - - - - - - - -"
   ]
  },
  {
   "cell_type": "markdown",
   "metadata": {},
   "source": [
    "### Data Set - \n",
    "\n",
    "Domain: Mobile e-commerce\n",
    "\n",
    "Data: http://ufldl.stanford.edu/housenumbers/\n",
    "\n",
    "Also the data is attched as \"SVHN_single_grey1.h5\" along with this case study.\n",
    "\n",
    "#### About this dataset\n",
    "\n",
    "This data-set is Street View House Numbers where Images with many numbers. Clicked from various angles and houses.\n",
    "\n",
    "- - - - - - - - - - - - - - - - - - - - - - - - - - - - - - - - - - - - - - - - - - - - - -"
   ]
  },
  {
   "cell_type": "markdown",
   "metadata": {},
   "source": [
    "### Steps to perform:\n",
    "\n",
    "##### 1. Import Libraries\n",
    "#### 2. Import Data set & Train test split the data\n",
    "##### 3. EDA\n",
    "##### 4. Data Preparation\n",
    "##### 5. Supervised Learning modeling\n",
    "##### 6. Model Testing\n",
    "##### 7. Improvisation\n",
    "\n",
    "- - - - - - - - - - - - - - - - - - - - - - - - - - - - - - - - - - - - - - - - - - - - - -"
   ]
  },
  {
   "cell_type": "markdown",
   "metadata": {},
   "source": [
    "#### 1. Import Libraries"
   ]
  },
  {
   "cell_type": "code",
   "execution_count": 1,
   "metadata": {},
   "outputs": [
    {
     "name": "stderr",
     "output_type": "stream",
     "text": [
      "Using TensorFlow backend.\n"
     ]
    }
   ],
   "source": [
    "# Time\n",
    "import time\n",
    "\n",
    "# Import images data as h5 format\n",
    "import h5py\n",
    "\n",
    "# model pickling\n",
    "import pickle \n",
    "\n",
    "# Text color\n",
    "from colorama import Fore,Style\n",
    "\n",
    "# warnings handling\n",
    "import warnings\n",
    "warnings.filterwarnings(\"ignore\")\n",
    "\n",
    "# Train test split\n",
    "from sklearn.model_selection import train_test_split\n",
    "\n",
    "# Numbers\n",
    "import numpy as np \n",
    "import pandas as pd \n",
    "\n",
    "# Plots\n",
    "import matplotlib.pyplot as plt\n",
    "import seaborn as sns\n",
    "\n",
    "# Model \n",
    "from sklearn. linear_model import LogisticRegression\n",
    "from sklearn.naive_bayes import GaussianNB,BernoulliNB,MultinomialNB\n",
    "from sklearn.neighbors import KNeighborsClassifier\n",
    "from sklearn.svm import SVC\n",
    "\n",
    "# Metrics\n",
    "from sklearn.metrics import accuracy_score\n",
    "from sklearn.metrics import confusion_matrix\n",
    "from sklearn.metrics import accuracy_score\n",
    "from sklearn.metrics import classification_report\n",
    "from sklearn import preprocessing\n",
    "\n",
    "# NLP\n",
    "from sklearn.feature_extraction.text import TfidfVectorizer\n",
    "from nltk.tokenize import RegexpTokenizer\n",
    "import numpy as np\n",
    "import re\n",
    "\n",
    "# model pickling\n",
    "import pickle \n",
    "\n",
    "# Text color\n",
    "from colorama import Fore,Style\n",
    "\n",
    "## Importing the Deep Learning libraries\n",
    "import keras\n",
    "import numpy as np\n",
    "#from keras.datasets import mnist\n",
    "from keras.models import Sequential\n",
    "from keras.layers import Dense\n",
    "from keras.utils import np_utils\n",
    "\n",
    "\n",
    "# warnings handling\n",
    "import warnings\n",
    "warnings.filterwarnings(\"ignore\")"
   ]
  },
  {
   "cell_type": "markdown",
   "metadata": {},
   "source": [
    "- - - - - - - - - - - - - - - - - - - - - - - - - - - - - - - - - - - - - - - - - - - - - - \n",
    "\n",
    "#### Questions ?\n",
    "\n",
    "1. What is pickling a model ? How it is useful ?\n",
    "\n",
    "2. What are warnings ? \n",
    "\n",
    "- - - - - - - - - - - - - - - - - - - - - - - - - - - - - - - - - - - - - - - - - - - - - -"
   ]
  },
  {
   "cell_type": "markdown",
   "metadata": {},
   "source": [
    "#### 2. Import Data set & Train test split the data"
   ]
  },
  {
   "cell_type": "code",
   "execution_count": 2,
   "metadata": {},
   "outputs": [
    {
     "name": "stdout",
     "output_type": "stream",
     "text": [
      "Training data size\n",
      " (42000, 32, 32) (42000,)\n",
      "\n",
      "Testing data size\n",
      " (18000, 32, 32) (18000,)\n"
     ]
    }
   ],
   "source": [
    "# Open the file as readonly\n",
    "h5f = h5py.File('SVHN_single_grey1.h5', 'r')\n",
    "\n",
    "# Load the training, test and validation set\n",
    "X_train = h5f['X_train'][:]\n",
    "y_train1 = h5f['y_train'][:]\n",
    "X_test = h5f['X_test'][:]\n",
    "y_test1 = h5f['y_test'][:]\n",
    "\n",
    "# Close this file\n",
    "h5f.close()\n",
    "\n",
    "# Shape and size of data\n",
    "print(\"Training data size\\n\",X_train.shape,y_train1.shape)\n",
    "print(\"\\nTesting data size\\n\",X_test.shape,y_test1.shape)"
   ]
  },
  {
   "cell_type": "markdown",
   "metadata": {},
   "source": [
    "- - - - - - - - - - - - - - - - - - - - - - - - - - - - - - - - - - - - - - - - - - - - - - \n",
    "\n",
    "#### Questions ?\n",
    "\n",
    "1. List different sources from where you can import data into python. Try understanding the python command for the same.\n",
    "\n",
    "2. What is the default number of images <.head> command prints ? How to print 7 images ?\n",
    "\n",
    "3. How to print bottom most images of the dataset ?\n",
    "\n",
    "4. How to print images for range 100 - 200 ?\n",
    "\n",
    "5. How to print specific image ?  (hint: loc or iloc commands)\n",
    "\n",
    "- - - - - - - - - - - - - - - - - - - - - - - - - - - - - - - - - - - - - - - - - - - - - -"
   ]
  },
  {
   "cell_type": "markdown",
   "metadata": {},
   "source": [
    "#### 3. EDA"
   ]
  },
  {
   "cell_type": "code",
   "execution_count": 3,
   "metadata": {},
   "outputs": [
    {
     "data": {
      "text/plain": [
       "array([[[ 33.0704,  30.2601,  26.852 , ...,  71.4471,  58.2204,\n",
       "          42.9939],\n",
       "        [ 25.2283,  25.5533,  29.9765, ..., 113.0209, 103.3639,\n",
       "          84.2949],\n",
       "        [ 26.2775,  22.6137,  40.4763, ..., 113.3028, 121.775 ,\n",
       "         115.4228],\n",
       "        ...,\n",
       "        [ 28.5502,  36.212 ,  45.0801, ...,  24.1359,  25.0927,\n",
       "          26.0603],\n",
       "        [ 38.4352,  26.4733,  23.2717, ...,  28.1094,  29.4683,\n",
       "          30.0661],\n",
       "        [ 50.2984,  26.0773,  24.0389, ...,  49.6682,  50.853 ,\n",
       "          53.0377]]], dtype=float32)"
      ]
     },
     "execution_count": 3,
     "metadata": {},
     "output_type": "execute_result"
    }
   ],
   "source": [
    "# Display training data\n",
    "X_train[0:1]"
   ]
  },
  {
   "cell_type": "markdown",
   "metadata": {},
   "source": [
    "- - - - - - - - - - - - - - - - - - - - - - - - - - - - - - - - - - - - - - - - - - - - - -\n",
    "\n",
    "#### Questions:\n",
    "\n",
    "1. What this data represents ?\n",
    "\n",
    "2. How does it represent an image ?\n",
    "\n",
    "3. How do we know which number is represented by the above data ?\n",
    "\n",
    "- - - - - - - - - - - - - - - - - - - - - - - - - - - - - - - - - - - - - - - - - - - - - -"
   ]
  },
  {
   "cell_type": "code",
   "execution_count": 4,
   "metadata": {},
   "outputs": [
    {
     "data": {
      "text/plain": [
       "array([2], dtype=uint8)"
      ]
     },
     "execution_count": 4,
     "metadata": {},
     "output_type": "execute_result"
    }
   ],
   "source": [
    "# Display training data target column\n",
    "y_train1[0:1]"
   ]
  },
  {
   "cell_type": "markdown",
   "metadata": {},
   "source": [
    "- - - - - - - - - - - - - - - - - - - - - - - - - - - - - - - - - - - - - - - - - - - - - -\n",
    "\n",
    "#### Questions:\n",
    "\n",
    "1. What this data represents ?\n",
    "\n",
    "2. How does it represent an image ?\n",
    "\n",
    "3. How do we know which number is represented by the above data ?\n",
    "\n",
    "- - - - - - - - - - - - - - - - - - - - - - - - - - - - - - - - - - - - - - - - - - - - - -"
   ]
  },
  {
   "cell_type": "code",
   "execution_count": 5,
   "metadata": {},
   "outputs": [
    {
     "data": {
      "image/png": "[encoded data removed]",
      "text/plain": [
       "<Figure size 720x72 with 10 Axes>"
      ]
     },
     "metadata": {
      "needs_background": "light"
     },
     "output_type": "display_data"
    },
    {
     "name": "stdout",
     "output_type": "stream",
     "text": [
      "label for each of the above image: [2 6 7 4 4 0 3 0 7 3]\n"
     ]
    }
   ],
   "source": [
    "# visualizing the first 10 images in the dataset and their labels\n",
    "\n",
    "plt.figure(figsize=(10, 1))\n",
    "for i in range(10):\n",
    "    plt.subplot(1, 10, i+1)\n",
    "    plt.imshow(X_train[i], cmap=\"gray\")  # use cmap as \"Greens\" or \"Blues\" or \"Reds\"\n",
    "    plt.axis('off')\n",
    "plt.show()\n",
    "print('label for each of the above image: %s' % (y_train1[0:10]))"
   ]
  },
  {
   "cell_type": "markdown",
   "metadata": {},
   "source": [
    "- - - - - - - - - - - - - - - - - - - - - - - - - - - - - - - - - - - - - - - - - - - - - -\n",
    "\n",
    "#### Assignment:\n",
    "\n",
    "1. Print 100th imag and check the target\n",
    "\n",
    "2. Answer why in the first image we see number \"128\" but the target is \"2\" ? How to decide this and who has decided this ?\n",
    "\n",
    "- - - - - - - - - - - - - - - - - - - - - - - - - - - - - - - - - - - - - - - - - - - - - -"
   ]
  },
  {
   "cell_type": "markdown",
   "metadata": {},
   "source": [
    "#### 4. Data Preparation"
   ]
  },
  {
   "cell_type": "code",
   "execution_count": 6,
   "metadata": {},
   "outputs": [
    {
     "name": "stdout",
     "output_type": "stream",
     "text": [
      "[0.12968785 0.11866706 0.10530196 ... 0.19477727 0.19942354 0.20799099]\n",
      "[0.15905097 0.18349686 0.19206432 ... 0.43143883 0.4360851  0.44780627]\n",
      "\n",
      "\n",
      "Training set (42000, 1024) (42000,)\n",
      "\n",
      "Test set (18000, 1024) (18000,)\n"
     ]
    }
   ],
   "source": [
    "# Reshape the images\n",
    "X_train = X_train.reshape(X_train.shape[0], 1024)\n",
    "X_test = X_test.reshape(X_test.shape[0], 1024)\n",
    "\n",
    "# Normalize inputs from 0-255 to 0-1\n",
    "X_train = X_train / 255.0\n",
    "X_test = X_test / 255.0\n",
    "\n",
    "print(X_train[0])\n",
    "print(X_test[0])\n",
    "\n",
    "# Data shape\n",
    "print('\\n\\nTraining set', X_train.shape, y_train1.shape)\n",
    "print('\\nTest set', X_test.shape, y_test1.shape)"
   ]
  },
  {
   "cell_type": "markdown",
   "metadata": {},
   "source": [
    "- - - - - - - - - - - - - - - - - - - - - - - - - - - - - - - - - - - - - - - - - - - - - -\n",
    "\n",
    "#### Questions ?\n",
    "\n",
    "1. What is image reshape ?\n",
    "\n",
    "2. What is normalisation ? whay did we choose 255 as the number ?\n",
    "\n",
    "3. Compare training data before and after normalization. What did you get out of this ?\n",
    "\n",
    "- - - - - - - - - - - - - - - - - - - - - - - - - - - - - - - - - - - - - - - - - - - - - -"
   ]
  },
  {
   "cell_type": "code",
   "execution_count": 7,
   "metadata": {},
   "outputs": [
    {
     "name": "stdout",
     "output_type": "stream",
     "text": [
      "One hot encoded output:\n",
      " [[0. 1. 0. 0. 0. 0. 0. 0. 0. 0.]\n",
      " [0. 0. 0. 0. 0. 0. 0. 1. 0. 0.]\n",
      " [0. 0. 1. 0. 0. 0. 0. 0. 0. 0.]\n",
      " [0. 0. 0. 0. 0. 0. 0. 0. 0. 1.]\n",
      " [1. 0. 0. 0. 0. 0. 0. 0. 0. 0.]]\n"
     ]
    }
   ],
   "source": [
    "# one hot encode outputs\n",
    "y_train = np_utils.to_categorical(y_train1)\n",
    "y_test = np_utils.to_categorical(y_test1)\n",
    "\n",
    "# no.of classes\n",
    "num_classes = y_test.shape[1]\n",
    "num_hidden = 32\n",
    "\n",
    "print(\"One hot encoded output:\\n\",y_test[0:5])"
   ]
  },
  {
   "cell_type": "markdown",
   "metadata": {},
   "source": [
    "- - - - - - - - - - - - - - - - - - - - - - - - - - - - - - - - - - - - - - - - - - - - - -\n",
    "\n",
    "#### Questions ?\n",
    "\n",
    "1. What is one hot encoding ? How many unique classes we have as target ?\n",
    "\n",
    "2. Why did we on hot encode target column ?\n",
    "\n",
    "3. Except one hot encoding do we have any other method to achieve the same ?\n",
    "\n",
    "- - - - - - - - - - - - - - - - - - - - - - - - - - - - - - - - - - - - - - - - - - - - - -"
   ]
  },
  {
   "cell_type": "code",
   "execution_count": 10,
   "metadata": {},
   "outputs": [
    {
     "name": "stdout",
     "output_type": "stream",
     "text": [
      "\n",
      " Training data: 1000\n",
      "\n",
      " Training Target data: 1000\n",
      "\n",
      " Testing data: 1000\n",
      "\n",
      " Testing Target data: 1000\n"
     ]
    }
   ],
   "source": [
    "# Flatten the images data \n",
    "\n",
    "# Training data\n",
    "x_train = []\n",
    "for i in range(42000):\n",
    "    x_train.append(X_train[i,:].flatten())\n",
    "\n",
    "# Testing data\n",
    "x_test = []\n",
    "for i in range(18000):\n",
    "    x_test.append(X_test[i,:].flatten())\n",
    "\n",
    "N=1000   # Try different values like 2000, 3000, 4000 .... 18000\n",
    "    \n",
    "x_train =x_train[:N] \n",
    "x_test =x_test[:N]\n",
    "\n",
    "# Target     \n",
    "y_train = y_train1[0:N]\n",
    "y_test = y_test1[0:N]\n",
    "\n",
    "   \n",
    "# Print data lengths\n",
    "\n",
    "print(\"\\n Training data:\",len(x_train))\n",
    "print(\"\\n Training Target data:\",len(y_train))\n",
    "print(\"\\n Testing data:\",len(x_test))\n",
    "print(\"\\n Testing Target data:\",len(y_test))"
   ]
  },
  {
   "cell_type": "markdown",
   "metadata": {},
   "source": [
    "- - - - - - - - - - - - - - - - - - - - - - - - - - - - - - - - - - - - - - - - - - - - - - \n",
    "\n",
    "#### Questions ?\n",
    "\n",
    "1. Why do we mean by flatten the data ?\n",
    "\n",
    "2. Wy do we need to flatten the data ? \n",
    "\n",
    "- - - - - - - - - - - - - - - - - - - - - - - - - - - - - - - - - - - - - - - - - - - - - -"
   ]
  },
  {
   "cell_type": "markdown",
   "metadata": {},
   "source": [
    "#### 5. Supervised Learning modeling"
   ]
  },
  {
   "cell_type": "code",
   "execution_count": 11,
   "metadata": {},
   "outputs": [
    {
     "name": "stdout",
     "output_type": "stream",
     "text": [
      "kernel is = <class 'sklearn.naive_bayes.BernoulliNB'> \tScore= 0.096\n",
      "kernel is = <class 'sklearn.naive_bayes.GaussianNB'> \tScore= 0.11\n",
      "kernel is = <class 'sklearn.naive_bayes.MultinomialNB'> \tScore= 0.144\n"
     ]
    }
   ],
   "source": [
    "# NB - Find the best NBs kernels\n",
    "\n",
    "k=[BernoulliNB,GaussianNB,MultinomialNB]\n",
    "for i in range (len(k)):\n",
    "    NB_Classifier = k[i]()\n",
    "    NB_Classifier.fit(x_train, y_train)\n",
    "    print ('kernel is =',k[i], '\\tScore=',NB_Classifier.score(x_test, y_test))"
   ]
  },
  {
   "cell_type": "markdown",
   "metadata": {},
   "source": [
    "- - - - - - - - - - - - - - - - - - - - - - - - - - - - - - - - - - - - - - - - - - - - - -\n",
    "\n",
    "#### Questions ?\n",
    "\n",
    "1. List differet NB methods ? \n",
    "\n",
    "2. What is Bernouli's NB method ? When to use this method ?\n",
    "\n",
    "3. What is Gaussian NB method ? When to use this method ?\n",
    "\n",
    "4. Any other hyper parameters we can alter to improve the prediction accuracy ?\n",
    "\n",
    "- - - - - - - - - - - - - - - - - - - - - - - - - - - - - - - - - - - - - - - - - - - - - -"
   ]
  },
  {
   "cell_type": "code",
   "execution_count": 12,
   "metadata": {},
   "outputs": [
    {
     "name": "stdout",
     "output_type": "stream",
     "text": [
      "\u001b[32m\n",
      "Accuracy using Naive Bayes :  0.144\n",
      "\u001b[34m\n",
      "Initiating pickling the model\n",
      "\u001b[32m\n",
      "Completed pickling the model\n",
      "\u001b[32m\n",
      "Reload the pickled model\n",
      "\u001b[34m\n",
      "Accuracy using Naive Bayes pickled model :  0.144\n"
     ]
    }
   ],
   "source": [
    "# NB - Model\n",
    "\n",
    "from sklearn.naive_bayes import GaussianNB\n",
    "from sklearn.metrics import accuracy_score\n",
    "\n",
    "NB = MultinomialNB()\n",
    "NB.fit(x_train, y_train)\n",
    "y_pred = NB.predict(x_test)\n",
    "NB_Accuracy=accuracy_score(y_test, y_pred, normalize = True)\n",
    "print(Fore.GREEN+\"\\nAccuracy using Naive Bayes : \", NB_Accuracy)\n",
    "\n",
    "#Pickle the file\n",
    "import pickle\n",
    "if NB_Accuracy>=0.05:\n",
    "    print(Fore.BLUE+\"\\nInitiating pickling the model\")\n",
    "    NB_Pickled = pickle.dumps(NB) \n",
    "    print(Fore.GREEN+\"\\nCompleted pickling the model\")\n",
    "else:\n",
    "    print(Fore.RED+\"\\nModel with poor performance\")\n",
    "\n",
    "print(Fore.GREEN+\"\\nReload the pickled model\")\n",
    "NB_Pickled_Load = pickle.loads(NB_Pickled)\n",
    "\n",
    "y_pred_1 = NB_Pickled_Load.predict(x_test)\n",
    "NB_Accuracy_Pickled = accuracy_score(y_true=y_test, y_pred=y_pred_1)\n",
    "print(Fore.BLUE+\"\\nAccuracy using Naive Bayes pickled model : \", NB_Accuracy_Pickled)"
   ]
  },
  {
   "cell_type": "code",
   "execution_count": 13,
   "metadata": {},
   "outputs": [
    {
     "name": "stdout",
     "output_type": "stream",
     "text": [
      "C= 0.1 \tKernel= linear \tScore= 0.145\n",
      "C= 0.2 \tKernel= linear \tScore= 0.15\n",
      "C= 0.3 \tKernel= linear \tScore= 0.137\n",
      "C= 0.4 \tKernel= linear \tScore= 0.14\n",
      "C= 0.5 \tKernel= linear \tScore= 0.141\n",
      "C= 0.6 \tKernel= linear \tScore= 0.139\n",
      "C= 0.7 \tKernel= linear \tScore= 0.135\n",
      "C= 0.8 \tKernel= linear \tScore= 0.133\n",
      "C= 0.9 \tKernel= linear \tScore= 0.139\n",
      "C= 1.0 \tKernel= linear \tScore= 0.133\n",
      "C= 0.1 \tKernel= rbf \tScore= 0.109\n",
      "C= 0.2 \tKernel= rbf \tScore= 0.124\n",
      "C= 0.3 \tKernel= rbf \tScore= 0.129\n",
      "C= 0.4 \tKernel= rbf \tScore= 0.15\n",
      "C= 0.5 \tKernel= rbf \tScore= 0.18\n",
      "C= 0.6 \tKernel= rbf \tScore= 0.196\n",
      "C= 0.7 \tKernel= rbf \tScore= 0.218\n",
      "C= 0.8 \tKernel= rbf \tScore= 0.234\n",
      "C= 0.9 \tKernel= rbf \tScore= 0.238\n",
      "C= 1.0 \tKernel= rbf \tScore= 0.251\n",
      "C= 0.1 \tKernel= sigmoid \tScore= 0.096\n",
      "C= 0.2 \tKernel= sigmoid \tScore= 0.096\n",
      "C= 0.3 \tKernel= sigmoid \tScore= 0.096\n",
      "C= 0.4 \tKernel= sigmoid \tScore= 0.096\n",
      "C= 0.5 \tKernel= sigmoid \tScore= 0.096\n",
      "C= 0.6 \tKernel= sigmoid \tScore= 0.096\n",
      "C= 0.7 \tKernel= sigmoid \tScore= 0.096\n",
      "C= 0.8 \tKernel= sigmoid \tScore= 0.103\n",
      "C= 0.9 \tKernel= sigmoid \tScore= 0.088\n",
      "C= 1.0 \tKernel= sigmoid \tScore= 0.086\n",
      "C= 0.1 \tKernel= poly \tScore= 0.267\n",
      "C= 0.2 \tKernel= poly \tScore= 0.291\n",
      "C= 0.3 \tKernel= poly \tScore= 0.289\n",
      "C= 0.4 \tKernel= poly \tScore= 0.298\n",
      "C= 0.5 \tKernel= poly \tScore= 0.305\n",
      "C= 0.6 \tKernel= poly \tScore= 0.326\n",
      "C= 0.7 \tKernel= poly \tScore= 0.339\n",
      "C= 0.8 \tKernel= poly \tScore= 0.345\n",
      "C= 0.9 \tKernel= poly \tScore= 0.343\n",
      "C= 1.0 \tKernel= poly \tScore= 0.336\n"
     ]
    }
   ],
   "source": [
    "# SVM - to find the best parameters\n",
    "\n",
    "from sklearn.svm import SVC\n",
    "\n",
    "c=np.arange(0.1,1.1,0.1)  # Range of C values\n",
    "\n",
    "kernels=['linear','rbf','sigmoid','poly']  # Range of kernels\n",
    "\n",
    "# Loop to find the best parameters for C and Kernels\n",
    "\n",
    "for k in range (len(kernels)):\n",
    "    for i in range (len(c)):\n",
    "        SVM_Classifier = SVC(C=c[i],kernel=kernels[k])\n",
    "        SVM_Classifier.fit(x_train, y_train)\n",
    "        print ('C=',round(c[i],2),\"\\tKernel=\",kernels[k],'\\tScore=',SVM_Classifier.score(x_test, y_test))"
   ]
  },
  {
   "cell_type": "code",
   "execution_count": null,
   "metadata": {},
   "outputs": [],
   "source": [
    "# SVM - Model using best parameters from above\n",
    "\n",
    "from sklearn.svm import SVC\n",
    "SVM = SVC(C=0.8,kernel='poly')\n",
    "SVM.fit(x_train, y_train)\n",
    "SVM_Accuracy=SVM.score(x_test, y_test)\n",
    "print(Fore.GREEN+\"\\nAccuracy using SVM : \", SVM_Accuracy)\n",
    "\n",
    "#Pickle the file\n",
    "import pickle\n",
    "if SVM_Accuracy>=0.10:\n",
    "    print(Fore.BLUE+\"\\nInitiating pickling the model\")\n",
    "    SVM_Pickled = pickle.dumps(SVM) \n",
    "    print(Fore.GREEN+\"\\nCompleted pickling the model\")\n",
    "else:\n",
    "    print(Fore.RED+\"\\nModel with poor performance\")\n",
    "\n",
    "print(Fore.BLACK+\"\\nReload the pickled model\")\n",
    "SVM_Pickled_Load = pickle.loads(SVM_Pickled)\n",
    "\n",
    "y_pred_1 = SVM_Pickled_Load.predict(x_test)\n",
    "SVM_Accuracy_Pickled = accuracy_score(y_true=y_test, y_pred=y_pred_1)\n",
    "print(Fore.GREEN+\"\\nAccuracy using SVM pickled model : \", SVM_Accuracy_Pickled)"
   ]
  },
  {
   "cell_type": "markdown",
   "metadata": {},
   "source": [
    "- - - - - - - - - - - - - - - - - - - - - - - - - - - - - - - - - - - - - - - - - - - - - -\n",
    "\n",
    "#### Questions ?\n",
    "\n",
    "1. What C value does ? How it is significant ?\n",
    "\n",
    "2. Select the best value of C from the above.\n",
    "\n",
    "3. Can we have value of C greater than 1 ? Upto what value we can go ?\n",
    "\n",
    "4. What does kernel do ? How it is significant ?\n",
    "\n",
    "5. Select the best value of kernel from the above.\n",
    "\n",
    "6. What does GAMMA do ? How it is significant ?\n",
    "\n",
    "- - - - - - - - - - - - - - - - - - - - - - - - - - - - - - - - - - - - - - - - - - - - - -"
   ]
  },
  {
   "cell_type": "code",
   "execution_count": null,
   "metadata": {},
   "outputs": [],
   "source": [
    "# KNN - choosing the K value\n",
    "\n",
    "# creating odd list of K for KNN\n",
    "myList = list(range(2,20))\n",
    "\n",
    "# subsetting just the odd ones\n",
    "neighbors = list(filter(lambda x: x % 2 != 0, myList))\n",
    "\n",
    "# empty list that will hold accuracy scores\n",
    "ac_scores = []\n",
    "\n",
    "# perform accuracy metrics for values from 1,3,5....19\n",
    "for k in neighbors:\n",
    "    knn = KNeighborsClassifier(n_neighbors=k)\n",
    "    knn.fit(x_train, y_train)\n",
    "    # predict the response\n",
    "    y_pred = knn.predict(x_test)\n",
    "    # evaluate accuracy\n",
    "    scores = accuracy_score(y_test, y_pred)\n",
    "    ac_scores.append(scores)\n",
    "\n",
    "# changing to misclassification error\n",
    "MSE = [1 - x for x in ac_scores]\n",
    "\n",
    "# determining best k\n",
    "optimal_k = neighbors[MSE.index(min(MSE))]\n",
    "print(\"The optimal number of neighbors is %d\" % optimal_k)"
   ]
  },
  {
   "cell_type": "markdown",
   "metadata": {},
   "source": [
    "- - - - - - - - - - - - - - - - - - - - - - - - - - - - - - - - - - - - - - - - - - - - - -\n",
    "\n",
    "#### Questions ?\n",
    "\n",
    "1. What K value does ? How it is significant ?\n",
    "\n",
    "2. Select the best value of C from the above.\n",
    "\n",
    "- - - - - - - - - - - - - - - - - - - - - - - - - - - - - - - - - - - - - - - - - - - - - -"
   ]
  },
  {
   "cell_type": "code",
   "execution_count": null,
   "metadata": {},
   "outputs": [],
   "source": [
    "# KNN - Model using the best parameters form above\n",
    "\n",
    "from sklearn.neighbors import KNeighborsClassifier\n",
    "from sklearn.metrics import accuracy_score\n",
    "\n",
    "KNN = KNeighborsClassifier(n_neighbors=3)\n",
    "KNN.fit(x_train, y_train)\n",
    "# predict the response\n",
    "y_pred = KNN.predict(x_test)\n",
    "# evaluate accuracy\n",
    "KNN_Accuracy=accuracy_score(y_test, y_pred)\n",
    "print(Fore.GREEN+\"\\nAccuracy using KNN : \", KNN_Accuracy)\n",
    "\n",
    "\n",
    "#Pickle the file\n",
    "import pickle\n",
    "if KNN_Accuracy>=0.1:\n",
    "    print(Fore.BLUE+\"\\nInitiating pickling the model\")\n",
    "    KNN_Pickled = pickle.dumps(KNN) \n",
    "    print(Fore.GREEN+\"\\nCompleted pickling the model\")\n",
    "else:\n",
    "    print(Fore.RED+\"\\nModel with poor performance\")\n",
    "\n",
    "print(Fore.BLUE+\"\\nReload the pickled model\")\n",
    "KNN_Pickled_Load = pickle.loads(KNN_Pickled)\n",
    "\n",
    "y_pred_1 = KNN_Pickled_Load.predict(x_test)\n",
    "KNN_Accuracy_Pickled = accuracy_score(y_true=y_test, y_pred=y_pred_1)\n",
    "print(Fore.BLACK+\"\\nAccuracy using KNN pickled model : \", KNN_Accuracy_Pickled)"
   ]
  },
  {
   "cell_type": "markdown",
   "metadata": {},
   "source": [
    "#### 9. Model Testing"
   ]
  },
  {
   "cell_type": "markdown",
   "metadata": {},
   "source": [
    "- - - - - - - - - - - - - - - - - - - - - - - - - - - - - - - - - - - - - - - - - - - - - -\n",
    "\n",
    "#### Assignment\n",
    "\n",
    "Use the above model to predict accuracy for any new data.\n",
    "\n",
    "- - - - - - - - - - - - - - - - - - - - - - - - - - - - - - - - - - - - - - - - - - - - - -"
   ]
  },
  {
   "cell_type": "markdown",
   "metadata": {},
   "source": [
    "#### 10. Improvisation"
   ]
  },
  {
   "cell_type": "markdown",
   "metadata": {},
   "source": [
    "- - - - - - - - - - - - - - - - - - - - - - - - - - - - - - - - - - - - - - - - - - - - - -\n",
    "\n",
    "#### Questions ?\n",
    "\n",
    "1. Do we need so many columns/fetures/pixels ? if yes, then how we will do that ?\n",
    "\n",
    "2. Can we delete some columns/fetures/pixels ?\n",
    "\n",
    "3. Deleting columns/fetures/pixels will impact our model to form pattern and in turn prediction ?\n",
    "\n",
    "4. Can we use more combinations of hyperparameters to achieve more accuracy ?\n",
    "\n",
    "5. Any other methods we can employ to improvise ? (hint: data split, data shuffle etc.)\n",
    "\n",
    "- - - - - - - - - - - - - - - - - - - - - - - - - - - - - - - - - - - - - - - - - - - - - -"
   ]
  },
  {
   "cell_type": "markdown",
   "metadata": {},
   "source": [
    "- - - - - - - - - - - - - - - - - - - - - - - - - - - - - - - - - - - - - - - - - - - - - -\n",
    "\n",
    "#### Assignment\n",
    "\n",
    "Use the above model to increase the prediction accuracy. Model hould not be be an overfit model\n",
    "\n",
    "- - - - - - - - - - - - - - - - - - - - - - - - - - - - - - - - - - - - - - - - - - - - - -"
   ]
  },
  {
   "cell_type": "markdown",
   "metadata": {},
   "source": [
    "                                  End of case study"
   ]
  }
 ],
 "metadata": {
  "kernelspec": {
   "display_name": "Python 3",
   "language": "python",
   "name": "python3"
  },
  "language_info": {
   "codemirror_mode": {
    "name": "ipython",
    "version": 3
   },
   "file_extension": ".py",
   "mimetype": "text/x-python",
   "name": "python",
   "nbconvert_exporter": "python",
   "pygments_lexer": "ipython3",
   "version": "3.7.4"
  }
 },
 "nbformat": 4,
 "nbformat_minor": 2
}
